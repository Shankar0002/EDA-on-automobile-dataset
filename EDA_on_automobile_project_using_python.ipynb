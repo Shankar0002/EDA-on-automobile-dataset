{
  "nbformat": 4,
  "nbformat_minor": 0,
  "metadata": {
    "colab": {
      "provenance": [],
      "authorship_tag": "ABX9TyPGdFHANtUsk9By782FxEcs",
      "include_colab_link": true
    },
    "kernelspec": {
      "name": "python3",
      "display_name": "Python 3"
    },
    "language_info": {
      "name": "python"
    }
  },
  "cells": [
    {
      "cell_type": "markdown",
      "metadata": {
        "id": "view-in-github",
        "colab_type": "text"
      },
      "source": [
        "<a href=\"https://colab.research.google.com/github/Shankar0002/EDA-on-automobile-dataset/blob/main/EDA_on_automobile_project_using_python.ipynb\" target=\"_parent\"><img src=\"https://colab.research.google.com/assets/colab-badge.svg\" alt=\"Open In Colab\"/></a>"
      ]
    },
    {
      "cell_type": "code",
      "execution_count": 31,
      "metadata": {
        "id": "_-ZE0YRJFLE2"
      },
      "outputs": [],
      "source": [
        "import pandas as pd\n",
        "import numpy as np\n",
        "import seaborn as sns\n",
        "import matplotlib.pyplot as plt\n",
        "filepath=\"/content/automobile.csv\"\n",
        "auto_df=pd.read_csv(filepath)"
      ]
    },
    {
      "cell_type": "code",
      "source": [
        "auto_df.info()   # to check about some information about the dataFrame"
      ],
      "metadata": {
        "id": "05niia09KtAf"
      },
      "execution_count": null,
      "outputs": []
    },
    {
      "cell_type": "code",
      "source": [
        "auto_df.describe()"
      ],
      "metadata": {
        "id": "e4PBiEbYLPM4"
      },
      "execution_count": null,
      "outputs": []
    },
    {
      "cell_type": "code",
      "source": [
        "auto_df.columns"
      ],
      "metadata": {
        "id": "fw5fjaQ5JCCh"
      },
      "execution_count": null,
      "outputs": []
    },
    {
      "cell_type": "code",
      "source": [
        "auto_df.replace('?',np.nan,inplace=True)  # replacing all ? valve by nan (not a number )\n",
        "sns.heatmap(auto_df.isna())   # to check for Nan valvus over all dataset\n"
      ],
      "metadata": {
        "id": "DDoxa4JkHIjn"
      },
      "execution_count": null,
      "outputs": []
    },
    {
      "cell_type": "code",
      "source": [
        "auto_df[['normalized-losses', 'bore', 'stroke', 'horsepower', 'peak-rpm', 'price']] = auto_df[['normalized-losses', 'bore', 'stroke', 'horsepower', 'peak-rpm', 'price']].astype(float)\n",
        "auto_df.info()  # converted some columns  from object to float."
      ],
      "metadata": {
        "id": "VHJ5NhyDOTeb"
      },
      "execution_count": null,
      "outputs": []
    },
    {
      "cell_type": "code",
      "source": [
        "auto_df.drop_duplicates(inplace=True)  # dropping dublicated rows\n"
      ],
      "metadata": {
        "id": "aFJZAMXGR6E5"
      },
      "execution_count": 25,
      "outputs": []
    },
    {
      "cell_type": "code",
      "source": [
        "sns.boxplot(x=\"price\", data=auto_df)   # to check for outliers in price column\n",
        "plt.show()"
      ],
      "metadata": {
        "id": "rq9gf4YwDhgt"
      },
      "execution_count": null,
      "outputs": []
    },
    {
      "cell_type": "code",
      "source": [
        "sns.scatterplot(x='horsepower', y='price', hue='fuel-type', data=auto_df)  # Scatterplot of horsepower vs. price colored by fuel-type:"
      ],
      "metadata": {
        "id": "mqBxzKxqTV0-"
      },
      "execution_count": null,
      "outputs": []
    },
    {
      "cell_type": "code",
      "source": [
        "auto_df.corr()    # through this we can say positive,negative ,and normal corelation between two columns"
      ],
      "metadata": {
        "id": "cKsJ3zXfDj7h"
      },
      "execution_count": null,
      "outputs": []
    },
    {
      "cell_type": "code",
      "source": [
        "we can draw conferenvce by seeing at correlation from seeing the auto_df data set .\n",
        "and also we can use some np.histogram,boxplot,trends line to draw more results through data"
      ],
      "metadata": {
        "id": "Hr5Xvo6kFiML"
      },
      "execution_count": null,
      "outputs": []
    },
    {
      "cell_type": "code",
      "source": [],
      "metadata": {
        "id": "MwB5UlAgOHwc"
      },
      "execution_count": null,
      "outputs": []
    }
  ]
}